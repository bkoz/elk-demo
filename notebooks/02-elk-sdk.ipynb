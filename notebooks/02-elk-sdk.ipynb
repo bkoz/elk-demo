{
 "cells": [
  {
   "attachments": {},
   "cell_type": "markdown",
   "id": "677a9e11-7468-49c7-8e79-4b9dded03856",
   "metadata": {},
   "source": [
    "# Example Elastic client using the SDK."
   ]
  },
  {
   "cell_type": "code",
   "execution_count": null,
   "id": "c256ba8d-cde5-4e66-a9d8-0a4a46b032e3",
   "metadata": {},
   "outputs": [],
   "source": [
    "import requests\n",
    "import json\n",
    "from elasticsearch import Elasticsearch\n",
    "from datetime import datetime"
   ]
  },
  {
   "attachments": {},
   "cell_type": "markdown",
   "id": "06897bcd-67d3-469a-84cc-de32d9a62af3",
   "metadata": {},
   "source": [
    "##### Authenticate with the Elastic service. Fill in the `service`, `user` and `password`."
   ]
  },
  {
   "cell_type": "code",
   "execution_count": null,
   "id": "14fdeee5-f162-44b4-acef-a2877a2bc722",
   "metadata": {},
   "outputs": [],
   "source": [
    "service = 'elasticsearch-sample-es-http.elastic'\n",
    "user = 'elastic'\n",
    "password = 'password'\n",
    "verify_certs = False\n",
    "url = f'https://{service}:9200'\n",
    "\n",
    "es = Elasticsearch(url, verify_certs=verify_certs, basic_auth=(user, password))"
   ]
  },
  {
   "attachments": {},
   "cell_type": "markdown",
   "id": "7292a414-ecf8-4f92-affb-da1fa1457b36",
   "metadata": {},
   "source": [
    "##### GET the Elastic health"
   ]
  },
  {
   "cell_type": "code",
   "execution_count": null,
   "id": "cfeb444d-dfad-4504-b2a7-4d5b776e2846",
   "metadata": {},
   "outputs": [],
   "source": [
    "print(es.health_report())"
   ]
  },
  {
   "attachments": {},
   "cell_type": "markdown",
   "id": "067ae104-78ed-4992-ac0b-f5e2ecf022d3",
   "metadata": {},
   "source": [
    "##### GET the Elastic status."
   ]
  },
  {
   "cell_type": "code",
   "execution_count": null,
   "id": "fc9d11ae-c589-4164-8e12-71d8d85743cf",
   "metadata": {},
   "outputs": [],
   "source": [
    "es.info()"
   ]
  },
  {
   "attachments": {},
   "cell_type": "markdown",
   "id": "2e067ef0-7f20-40ba-adf6-11b79900c87b",
   "metadata": {},
   "source": [
    "##### POST some example data.\n",
    "[Elastic Docs](https://www.elastic.co/guide/en/elasticsearch/client/python-api/current/examples.html#ex-index)"
   ]
  },
  {
   "cell_type": "code",
   "execution_count": null,
   "id": "9dda6871-19c5-48c3-a44c-fda12afa7689",
   "metadata": {},
   "outputs": [],
   "source": [
    "#\n",
    "# To index a document, three pieces of information are required: index, id, and a body\n",
    "#\n",
    "doc = {\n",
    "    'author': 'author_name',\n",
    "    'text': 'Interensting content...',\n",
    "    'timestamp': datetime.now(),\n",
    "}\n",
    "resp = es.index(index=\"test-index\", id=1, document=doc)\n",
    "print(resp['result'])"
   ]
  },
  {
   "attachments": {},
   "cell_type": "markdown",
   "id": "2d5e332a-75a2-4e64-9805-5fb5875899ff",
   "metadata": {},
   "source": [
    "##### GET the example back."
   ]
  },
  {
   "cell_type": "code",
   "execution_count": null,
   "id": "7788db50-70d8-4b2a-8e74-9b4b46a58bcc",
   "metadata": {},
   "outputs": [],
   "source": [
    "#\n",
    "# To get a document, the index and id are required:\n",
    "#\n",
    "resp = es.get(index=\"test-index\", id=1)\n",
    "print(resp['_source'])"
   ]
  },
  {
   "attachments": {},
   "cell_type": "markdown",
   "id": "f613ed34",
   "metadata": {},
   "source": [
    "##### Search"
   ]
  },
  {
   "cell_type": "code",
   "execution_count": null,
   "id": "62014ea5-c121-428e-96be-5d59525512a5",
   "metadata": {},
   "outputs": [],
   "source": [
    "resp = es.search(index=\"test-index\", query={\"match_all\": {}})\n",
    "print(\"Got %d Hits:\" % resp['hits']['total']['value'])\n",
    "for hit in resp['hits']['hits']:\n",
    "    print(\"%(timestamp)s %(author)s: %(text)s\" % hit[\"_source\"])"
   ]
  },
  {
   "cell_type": "markdown",
   "id": "9758d296",
   "metadata": {},
   "source": []
  }
 ],
 "metadata": {
  "kernelspec": {
   "display_name": "Python 3.9.16",
   "language": "python",
   "name": "python3"
  },
  "language_info": {
   "codemirror_mode": {
    "name": "ipython",
    "version": 3
   },
   "file_extension": ".py",
   "mimetype": "text/x-python",
   "name": "python",
   "nbconvert_exporter": "python",
   "pygments_lexer": "ipython3",
   "version": "3.9.16"
  }
 },
 "nbformat": 4,
 "nbformat_minor": 5
}
